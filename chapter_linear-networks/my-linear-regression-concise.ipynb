{
 "cells": [
  {
   "cell_type": "markdown",
   "id": "8257680f",
   "metadata": {},
   "source": [
    "通过使用深度学习框架来简洁地实现 线性回归模型 生成数据集"
   ]
  },
  {
   "cell_type": "code",
   "execution_count": 1,
   "id": "da4613d8",
   "metadata": {},
   "outputs": [
    {
     "name": "stdout",
     "output_type": "stream",
     "text": [
      "epoch = 1, training_loss = 0.000217\n",
      "epoch = 2, training_loss = 0.000099\n",
      "epoch = 3, training_loss = 0.000099\n",
      "w的估计误差： tensor([ 0.0003, -0.0006])\n",
      "b的估计误差： tensor([-5.7578e-05])\n"
     ]
    }
   ],
   "source": [
    "import torch \n",
    "from torch.utils import data\n",
    "from torch import nn\n",
    "from d2l import torch as d2l\n",
    "\n",
    "# generate data\n",
    "true_w = torch.tensor([4.2, 0.5])\n",
    "true_b = 0.5\n",
    "features, labels = d2l.synthetic_data(true_w, true_b, 1000)\n",
    "\n",
    "# data iter\n",
    "def load_data(data_arrays, batch_size, is_train=True):\n",
    "    dataset = data.TensorDataset(*data_arrays)\n",
    "    return data.DataLoader(dataset, batch_size, shuffle=is_train)\n",
    "data_iter = load_data((features, labels), batch_size=10)\n",
    "\n",
    "# net\n",
    "net = nn.Sequential(nn.Linear(2, 1))\n",
    "# initialize\n",
    "net[0].weight.data.normal_(0, 0.01)\n",
    "net[0].bias.data.fill_(0)\n",
    "\n",
    "# loss\n",
    "loss_fn = nn.MSELoss()\n",
    "\n",
    "# optimizer\n",
    "optimizer = torch.optim.SGD(net.parameters(), lr=0.03)\n",
    "\n",
    "# train\n",
    "num_epochs = 3\n",
    "for epoch in range(num_epochs):\n",
    "    for X, y in data_iter:\n",
    "        optimizer.zero_grad()\n",
    "        l = loss_fn(net(X), y)\n",
    "        l.backward()\n",
    "        optimizer.step()\n",
    "    train_l = loss_fn(net(features), labels)\n",
    "    print(f'epoch = {epoch+1}, training_loss = {train_l:f}')\n",
    "    \n",
    "w = net[0].weight.data\n",
    "print('w的估计误差：', true_w - w.reshape(true_w.shape))\n",
    "b = net[0].bias.data\n",
    "print('b的估计误差：', true_b - b)"
   ]
  },
  {
   "cell_type": "code",
   "execution_count": null,
   "id": "2317e160",
   "metadata": {},
   "outputs": [],
   "source": [
    "import torch\n",
    "from torch.utils import data\n",
    "from torch import nn\n",
    "from d2l import torch as d2l\n",
    "\n",
    "# data\n",
    "true_w = torch.tensor([4.3, 3])\n",
    "true_b = 0.5\n",
    "features, labels = d2l.synthetic_data(true_w, true_b, 1000)\n",
    "\n",
    "def load_data(data_arrays, batch_size, is_train=True):\n",
    "    dataset = data.TensorDataset(*data_arrays)\n",
    "    return data.DataLoader(dataset, batch_size, shuffle=is_train)\n",
    "data_iter = load_data((features, labels), batch_size=10)\n",
    "\n",
    "# net\n",
    "net = nn.Sequential(nn.Linear(2, 1))\n",
    "# initialize\n",
    "net[0].weights.data.normal_(0, 0.01)\n",
    "net[0].bias.data.fill_(0)\n",
    "\n",
    "# loss\n",
    "loss_fn = nn.MSEloss()\n",
    "\n",
    "# optimizer\n",
    "optimizer = torch.optim.SGD(net.parameters(), lr=0.03)\n",
    "\n",
    "# train\n",
    "num_epochs = 3\n",
    "for epoch in range(num_epochs):\n",
    "    for X, y in data_iter:\n",
    "        optimizer.zero_grad()\n",
    "        loss = loss_fn(net(X), y)\n",
    "        loss.backward()\n",
    "        optimizer.step()\n",
    "    train_l = loss_fn(net(features), labels)\n",
    "    print(f'epoch = {epoch+1}, train_loss = {train_l:f}')\n",
    "    \n",
    "w = net[0].weight.data\n",
    "b = net[0]."
   ]
  },
  {
   "cell_type": "code",
   "execution_count": null,
   "id": "13b90754",
   "metadata": {},
   "outputs": [],
   "source": []
  }
 ],
 "metadata": {
  "kernelspec": {
   "display_name": "Python 3 (ipykernel)",
   "language": "python",
   "name": "python3"
  },
  "language_info": {
   "codemirror_mode": {
    "name": "ipython",
    "version": 3
   },
   "file_extension": ".py",
   "mimetype": "text/x-python",
   "name": "python",
   "nbconvert_exporter": "python",
   "pygments_lexer": "ipython3",
   "version": "3.9.7"
  }
 },
 "nbformat": 4,
 "nbformat_minor": 5
}
