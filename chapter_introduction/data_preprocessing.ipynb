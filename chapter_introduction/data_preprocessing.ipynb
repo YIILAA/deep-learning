{
 "cells": [
  {
   "cell_type": "markdown",
   "id": "05a76559",
   "metadata": {},
   "source": [
    "# 数据预处理"
   ]
  },
  {
   "cell_type": "markdown",
   "id": "901a1619",
   "metadata": {},
   "source": [
    "目标：读取csv文件，做预处理，变成tensor数据\n",
    "\n",
    "创建一个人工数据集，并存储在csv文件中"
   ]
  },
  {
   "cell_type": "code",
   "execution_count": 4,
   "id": "9ca6d321",
   "metadata": {},
   "outputs": [],
   "source": [
    "import os\n",
    "\n",
    "os.makedirs(os.path.join('..', 'data'), exist_ok=True)\n",
    "data_file = os.path.join('..', 'data', 'house_tiny.csv')\n",
    "with open(data_file, 'w') as f: # with open() as 块结束时自动关闭文件\n",
    "    f.write('NumRoom, Alley, Price\\n') # 列名\n",
    "    f.write('NA, Pave, 127500\\n') # 每行表示一个数据样本\n",
    "    f.write('2, NA, 106000\\n')\n",
    "    f.write('4, NA, 128877\\n')\n",
    "    f.write('NA, NA, 177777\\n')"
   ]
  },
  {
   "cell_type": "markdown",
   "id": "f5c7f54a",
   "metadata": {},
   "source": [
    "从创建的csv文件中加载原始数据集"
   ]
  },
  {
   "cell_type": "code",
   "execution_count": 5,
   "id": "ee2abbaa",
   "metadata": {},
   "outputs": [
    {
     "data": {
      "text/html": [
       "<div>\n",
       "<style scoped>\n",
       "    .dataframe tbody tr th:only-of-type {\n",
       "        vertical-align: middle;\n",
       "    }\n",
       "\n",
       "    .dataframe tbody tr th {\n",
       "        vertical-align: top;\n",
       "    }\n",
       "\n",
       "    .dataframe thead th {\n",
       "        text-align: right;\n",
       "    }\n",
       "</style>\n",
       "<table border=\"1\" class=\"dataframe\">\n",
       "  <thead>\n",
       "    <tr style=\"text-align: right;\">\n",
       "      <th></th>\n",
       "      <th>NumRoom</th>\n",
       "      <th>Alley</th>\n",
       "      <th>Price</th>\n",
       "    </tr>\n",
       "  </thead>\n",
       "  <tbody>\n",
       "    <tr>\n",
       "      <th>0</th>\n",
       "      <td>NaN</td>\n",
       "      <td>Pave</td>\n",
       "      <td>127500</td>\n",
       "    </tr>\n",
       "    <tr>\n",
       "      <th>1</th>\n",
       "      <td>2.0</td>\n",
       "      <td>NA</td>\n",
       "      <td>106000</td>\n",
       "    </tr>\n",
       "    <tr>\n",
       "      <th>2</th>\n",
       "      <td>4.0</td>\n",
       "      <td>NA</td>\n",
       "      <td>128877</td>\n",
       "    </tr>\n",
       "    <tr>\n",
       "      <th>3</th>\n",
       "      <td>NaN</td>\n",
       "      <td>NA</td>\n",
       "      <td>177777</td>\n",
       "    </tr>\n",
       "  </tbody>\n",
       "</table>\n",
       "</div>"
      ],
      "text/plain": [
       "   NumRoom  Alley   Price\n",
       "0      NaN   Pave  127500\n",
       "1      2.0     NA  106000\n",
       "2      4.0     NA  128877\n",
       "3      NaN     NA  177777"
      ]
     },
     "execution_count": 5,
     "metadata": {},
     "output_type": "execute_result"
    }
   ],
   "source": [
    "import pandas as pd\n",
    "\n",
    "data = pd.read_csv(data_file) # 一般用pandas读取csv文件\n",
    "data\n",
    "\n",
    "# NA"
   ]
  },
  {
   "cell_type": "markdown",
   "id": "c2207264",
   "metadata": {},
   "source": [
    "为了处理缺失的数据，典型的方法包括插值&删除。这里考虑用插值"
   ]
  },
  {
   "cell_type": "code",
   "execution_count": 7,
   "id": "d1d43e15",
   "metadata": {},
   "outputs": [
    {
     "name": "stdout",
     "output_type": "stream",
     "text": [
      "   NumRoom  Alley\n",
      "0      3.0   Pave\n",
      "1      2.0     NA\n",
      "2      4.0     NA\n",
      "3      3.0     NA\n"
     ]
    }
   ],
   "source": [
    "inputs, outputs = data.iloc[:, 0:2], data.iloc[:, 2] #数据拆分\n",
    "# 对数值类型的 用均值补上\n",
    "inputs = inputs.fillna(inputs.mean())\n",
    "print(inputs)"
   ]
  },
  {
   "cell_type": "code",
   "execution_count": 8,
   "id": "93b0d662",
   "metadata": {},
   "outputs": [
    {
     "name": "stdout",
     "output_type": "stream",
     "text": [
      "   NumRoom   Alley_ NA   Alley_ Pave   Alley_nan\n",
      "0      3.0           0             1           0\n",
      "1      2.0           1             0           0\n",
      "2      4.0           1             0           0\n",
      "3      3.0           1             0           0\n"
     ]
    }
   ],
   "source": [
    "# 非数值类型\n",
    "# 对于inputs中的类别值或离散值，我们将NaN视为一个类别\n",
    "inputs = pd.get_dummies(inputs, dummy_na=True)\n",
    "print(inputs)"
   ]
  },
  {
   "cell_type": "markdown",
   "id": "ee3bdc46",
   "metadata": {},
   "source": [
    "上述步骤完成：缺失的数字&字符串 -> 数字，因此可以变成pytorch的tensor"
   ]
  },
  {
   "cell_type": "code",
   "execution_count": 54,
   "id": "c4cec2f2",
   "metadata": {},
   "outputs": [
    {
     "data": {
      "text/plain": [
       "(tensor([[3., 0., 1., 0.],\n",
       "         [2., 1., 0., 0.],\n",
       "         [4., 1., 0., 0.],\n",
       "         [3., 1., 0., 0.]], dtype=torch.float64),\n",
       " tensor([127500, 106000, 128877, 177777]))"
      ]
     },
     "execution_count": 54,
     "metadata": {},
     "output_type": "execute_result"
    }
   ],
   "source": [
    "import torch\n",
    "\n",
    "x, y = torch.tensor(inputs.values), torch.tensor(outputs.values)\n",
    "x, y"
   ]
  }
 ],
 "metadata": {
  "kernelspec": {
   "display_name": "Python 3 (ipykernel)",
   "language": "python",
   "name": "python3"
  },
  "language_info": {
   "codemirror_mode": {
    "name": "ipython",
    "version": 3
   },
   "file_extension": ".py",
   "mimetype": "text/x-python",
   "name": "python",
   "nbconvert_exporter": "python",
   "pygments_lexer": "ipython3",
   "version": "3.8.12"
  }
 },
 "nbformat": 4,
 "nbformat_minor": 5
}
