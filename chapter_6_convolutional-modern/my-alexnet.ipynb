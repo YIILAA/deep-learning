{
 "cells": [
  {
   "cell_type": "code",
   "execution_count": 1,
   "id": "d88a91b2",
   "metadata": {},
   "outputs": [],
   "source": [
    "import torch\n",
    "from torch import nn\n",
    "from d2l import torch as d2l\n",
    "\n",
    "net = nn.Sequential(\n",
    "    nn.Conv2d(3, 96, kernel_size=11, stride=4), nn.ReLU(),\n",
    "    nn.MaxPool2d(kernel_size=3, stride=2),\n",
    "    nn.Conv2d(96, 256, kernel_size=5, padding=2), nn.ReLU(),\n",
    "    nn.MaxPool2d(kernel_size=3, stride=2),\n",
    "    nn.Conv2d(256, 384, kernel_size=3, padding=1), nn.ReLU(),\n",
    "    nn.Conv2d(384, 384, kernel_size=3, padding=1), nn.ReLU(),\n",
    "    nn.Conv2d(384, 256, kernel_size=3, padding=1), nn.ReLU(),\n",
    "    nn.MaxPool2d(kernel_size=3, stride=2),\n",
    "    nn.Flatten(),\n",
    "    nn.Linear(6400, 4096), nn.ReLU(), nn.Dropout(0.5),\n",
    "    nn.Linear(4096, 4096), nn.ReLU(), nn.Dropout(0.5),\n",
    "    nn.Linear(4096, 1000)\n",
    "    )"
   ]
  },
  {
   "cell_type": "code",
   "execution_count": 2,
   "id": "87359464",
   "metadata": {},
   "outputs": [
    {
     "name": "stdout",
     "output_type": "stream",
     "text": [
      "Conv2d output shape: \t torch.Size([1, 96, 54, 54])\n",
      "ReLU output shape: \t torch.Size([1, 96, 54, 54])\n",
      "MaxPool2d output shape: \t torch.Size([1, 96, 26, 26])\n",
      "Conv2d output shape: \t torch.Size([1, 256, 26, 26])\n",
      "ReLU output shape: \t torch.Size([1, 256, 26, 26])\n",
      "MaxPool2d output shape: \t torch.Size([1, 256, 12, 12])\n",
      "Conv2d output shape: \t torch.Size([1, 384, 12, 12])\n",
      "ReLU output shape: \t torch.Size([1, 384, 12, 12])\n",
      "Conv2d output shape: \t torch.Size([1, 384, 12, 12])\n",
      "ReLU output shape: \t torch.Size([1, 384, 12, 12])\n",
      "Conv2d output shape: \t torch.Size([1, 256, 12, 12])\n",
      "ReLU output shape: \t torch.Size([1, 256, 12, 12])\n",
      "MaxPool2d output shape: \t torch.Size([1, 256, 5, 5])\n",
      "Flatten output shape: \t torch.Size([1, 6400])\n",
      "Linear output shape: \t torch.Size([1, 4096])\n",
      "ReLU output shape: \t torch.Size([1, 4096])\n",
      "Dropout output shape: \t torch.Size([1, 4096])\n",
      "Linear output shape: \t torch.Size([1, 4096])\n",
      "ReLU output shape: \t torch.Size([1, 4096])\n",
      "Dropout output shape: \t torch.Size([1, 4096])\n",
      "Linear output shape: \t torch.Size([1, 1000])\n"
     ]
    }
   ],
   "source": [
    "X = torch.rand(size=(1,3,224,224), dtype=torch.float32)\n",
    "for layer in net:\n",
    "    X = layer(X)\n",
    "    print(layer.__class__.__name__, \"output shape: \\t\", X.shape)"
   ]
  },
  {
   "cell_type": "code",
   "execution_count": null,
   "id": "b98b3c45",
   "metadata": {},
   "outputs": [],
   "source": []
  }
 ],
 "metadata": {
  "kernelspec": {
   "display_name": "Python 3.8.12 64-bit ('d2l': conda)",
   "language": "python",
   "name": "python3812jvsc74a57bd015a162aef56c374f20e075fbc4add75b55bd097c903a763d3b0c4cccda1c0caf"
  },
  "language_info": {
   "codemirror_mode": {
    "name": "ipython",
    "version": 3
   },
   "file_extension": ".py",
   "mimetype": "text/x-python",
   "name": "python",
   "nbconvert_exporter": "python",
   "pygments_lexer": "ipython3",
   "version": "3.8.12"
  }
 },
 "nbformat": 4,
 "nbformat_minor": 5
}
